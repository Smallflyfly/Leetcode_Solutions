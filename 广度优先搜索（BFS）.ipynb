{
 "cells": [
  {
   "cell_type": "markdown",
   "metadata": {
    "collapsed": true
   },
   "source": [
    "# 广度优先搜索"
   ]
  },
  {
   "cell_type": "markdown",
   "metadata": {},
   "source": [
    "假设你经营着一家芒果农场，需要寻找芒果销售商，以便将芒果卖给他。为此，我们可以通过广度优先搜索算法，在朋友中查找出符合条件的芒果销售商。\n",
    "广度优先搜索是一种用于图的查找算法，可帮助我们回答两类问题：\n",
    "第一类问题：从节点A出发，有前往节点B的路径吗？（在你的人际关系网中，有芒果销售商吗？）\n",
    "第二类问题：从节点A出发，前往节点B的哪条路径最短？（哪个芒果销售商与你的关系最近？）\n",
    "![jupyter](./922928-20180515191245379-496793498.png)"
   ]
  },
  {
   "cell_type": "code",
   "execution_count": null,
   "metadata": {},
   "outputs": [],
   "source": [
    "graph = {}\n",
    "graph['you'] = ['bob', 'claire', 'alice']\n",
    "graph['bob'] = ['anuj', 'peggy']\n",
    "graph['anuj'] = []\n",
    "graph['peggy'] = ['alice']\n",
    "graph['alice'] = []\n",
    "graph['claire'] = ['thom', 'jonny']\n",
    "graph['thom'] = []\n",
    "graph['jonny'] = []"
   ]
  },
  {
   "cell_type": "markdown",
   "metadata": {},
   "source": [
    "注：Anuj、Peggy、Thom和Jonny都没有邻居，这是因为虽然有指向他们的箭头，但没有从他们出发指向其他人的箭头。这被称之为有向图（directed graph），其中的关系是单向的。而无向图（undirected graph）没有箭头，直接相连的节点互为邻居。"
   ]
  },
  {
   "cell_type": "markdown",
   "metadata": {},
   "source": [
    "概述广度优先搜索算法的工作原理：\n",
    "![jupyter](./922928-20180515191733687-2451200.png)"
   ]
  },
  {
   "cell_type": "code",
   "execution_count": 5,
   "metadata": {
    "scrolled": true
   },
   "outputs": [
    {
     "name": "stdout",
     "output_type": "stream",
     "text": [
      "thom\n"
     ]
    }
   ],
   "source": [
    "from collections import deque\n",
    "\n",
    "def person_is_seller(person):\n",
    "    if 'm' in person:\n",
    "        return True\n",
    "    else:\n",
    "        return False\n",
    "\n",
    "def bfs(name, graph):\n",
    "    # 存放待访问节点\n",
    "    searh_queue = deque()\n",
    "    # 用于标记访问过的节点\n",
    "    mark = []\n",
    "    searh_queue += graph[name]\n",
    "    while searh_queue:\n",
    "        person = searh_queue.popleft()\n",
    "        if person not in mark:\n",
    "            if person_is_seller(person):\n",
    "                return person\n",
    "            else:\n",
    "                mark.append(person)\n",
    "                searh_queue += graph[person]\n",
    "\n",
    "if __name__=='__main__':\n",
    "    graph = {}\n",
    "    graph['you'] = ['bob', 'claire', 'alice']\n",
    "    graph['bob'] = ['anuj', 'peggy']\n",
    "    graph['anuj'] = []\n",
    "    graph['peggy'] = ['alice']\n",
    "    graph['alice'] = []\n",
    "    graph['claire'] = ['thom', 'jonny']\n",
    "    graph['thom'] = []\n",
    "    graph['jonny'] = []\n",
    "    seller = bfs('you', graph)\n",
    "    if seller:\n",
    "        print(seller)\n",
    "    else:\n",
    "        print('no seller')"
   ]
  },
  {
   "cell_type": "markdown",
   "metadata": {},
   "source": [
    "# 1162. As Far from Land as Possible\n",
    "Given an N x N grid containing only values 0 and 1, where 0 represents water and 1 represents land, find a water cell such that its distance to the nearest land cell is maximized and return the distance.\n",
    "The distance used in this problem is the Manhattan distance: the distance between two cells (x0, y0) and (x1, y1) is |x0 - x1| + |y0 - y1|.\n",
    "If no land or water exists in the grid, return -1.\n",
    "\n",
    "Input: [[1,0,1],[0,0,0],[1,0,1]]\n",
    "Output: 2\n",
    "Explanation: \n",
    "The cell (1, 1) is as far as possible from all the land with distance 2.\n",
    "\n",
    "Input: [[1,0,0],[0,0,0],[0,0,0]]\n",
    "Output: 4\n",
    "Explanation: \n",
    "The cell (2, 2) is as far as possible from all the land with distance 4."
   ]
  },
  {
   "cell_type": "code",
   "execution_count": 10,
   "metadata": {},
   "outputs": [],
   "source": [
    "'''\n",
    "BFS  从1出发  找0 找到 dist+1 并标记 grid[x][y] = 1\n",
    "'''\n",
    "\n",
    "class Solution(object):\n",
    "    def maxDistance(self, grid):\n",
    "        \"\"\"\n",
    "        :type grid: List[List[int]]\n",
    "        :rtype: int\n",
    "        \"\"\"\n",
    "        start = []\n",
    "        n = len(grid)\n",
    "        for i in range(n):\n",
    "            for j in range(n):\n",
    "                if grid[i][j] == 1:\n",
    "                    start.append((i, j, 0))\n",
    "        if len(start) == 0 or len(start) == n * n:\n",
    "            return -1\n",
    "        \n",
    "        search_queue = collections.deque(start)\n",
    "        dirx = [-1,0,1,0]\n",
    "        diry = [0,-1,0,1]\n",
    "        while search_queue:\n",
    "            i, j, dist = search_queue.popleft()\n",
    "            # print(i, j, dist)\n",
    "            for d in range(4):\n",
    "                x = i + dirx[d]\n",
    "                y = j + diry[d]\n",
    "                if x < 0 or y < 0 or x == n or y == n or grid[x][y] == 1:\n",
    "                    continue\n",
    "                search_queue.append((x, y, dist + 1))\n",
    "                grid[x][y] = 1\n",
    "        return dist"
   ]
  },
  {
   "cell_type": "markdown",
   "metadata": {},
   "source": [
    "# 279. Perfect Squares\n",
    "Given a positive integer n, find the least number of perfect square numbers (for example, 1, 4, 9, 16, ...) which sum to n.\n",
    "**Example 1:**\n",
    "Input: n = 12\n",
    "Output: 3 \n",
    "Explanation: 12 = 4 + 4 + 4.\n",
    "**Example 2:**\n",
    "Input: n = 13\n",
    "Output: 2\n",
    "Explanation: 13 = 4 + 9."
   ]
  },
  {
   "cell_type": "code",
   "execution_count": 49,
   "metadata": {},
   "outputs": [
    {
     "name": "stdout",
     "output_type": "stream",
     "text": [
      "1111 33\n",
      "5\n"
     ]
    }
   ],
   "source": [
    "class Solution:\n",
    "    def numSquares(self, n: int) -> int:\n",
    "        \n",
    "        def numSquares(self, n: int) -> int:\n",
    "        def is_square(n):\n",
    "            m = int(math.sqrt(n))\n",
    "            if m * m == n:\n",
    "                return True\n",
    "            else:\n",
    "                False\n",
    "        if n == 1:\n",
    "            return 1\n",
    "        import math\n",
    "        m = int(math.sqrt(n))\n",
    "        import collections\n",
    "        search_queue = collections.deque()\n",
    "        search_queue += [[n-i**2 for i in range(m,0,-1)]]\n",
    "#         print(search_queue)\n",
    "#         fang[-1]\n",
    "        num = 1\n",
    "        while search_queue:\n",
    "            # print(search_queue,num)\n",
    "            ns = search_queue.popleft()\n",
    "#             print(ns)\n",
    "            que = []\n",
    "            for nn in ns:\n",
    "                if nn == 0:\n",
    "                    return num\n",
    "                if nn == 1:\n",
    "                    return num+1\n",
    "                if is_square(nn):\n",
    "                    return num+1\n",
    "                nns =int(math.sqrt(nn))\n",
    "                for i in range(nns,0,-1):\n",
    "                    que.append(nn - i**2)\n",
    "            search_queue.append(que)\n",
    "            num += 1\n",
    "        return num+1\n",
    "        \n",
    "    \n",
    "    def ans(self, n):\n",
    "        return self.numSquares(n)\n",
    "\n",
    "if __name__=='__main__':\n",
    "    solution = Solution().ans(1111)\n",
    "    print(solution)"
   ]
  },
  {
   "cell_type": "code",
   "execution_count": null,
   "metadata": {},
   "outputs": [],
   "source": [
    "\"hit\"\n",
    "\"cog\"\n",
    "[\"hot\",\"dot\",\"dog\",\"hit\",\"log\", \"bit\", \"cog\"]\n",
    "\n",
    "{'hit': [], 'hot': ['dot'], 'dot': ['dog'], 'dog': ['log'], 'log': ['cog'], 'bit': [], 'cog': []}"
   ]
  },
  {
   "cell_type": "code",
   "execution_count": null,
   "metadata": {},
   "outputs": [],
   "source": [
    "class Solution:\n",
    "    def isAdj(self, s1, s2):\n",
    "        count = 0\n",
    "        for i in range(len(s1)):\n",
    "            if s1[i] != s2[i]:\n",
    "                count += 1\n",
    "            if count > 1:\n",
    "                return False\n",
    "        return True\n",
    "\n",
    "    def ladderLength(self, beginWord: str, endWord: str, wordList: List[str]) -> int:\n",
    "        if endWord not in wordList:\n",
    "            return 0\n",
    "        wordDict = {}\n",
    "        words = []\n",
    "        for w in wordList:\n",
    "            if self.isAdj(beginWord, w) and w != beginWord:\n",
    "                words.append(w)\n",
    "        wordDict[beginWord] = words\n",
    "        print(wordDict)\n",
    "        mark = []\n",
    "        for i in range(len(wordList)):\n",
    "            words = []\n",
    "            if wordList[i] == beginWord:\n",
    "                continue\n",
    "            for j in range(i+1, len(wordList)):\n",
    "                if wordList[j] == beginWord:\n",
    "                    continue\n",
    "                if self.isAdj(wordList[i], wordList[j]) and wordList[i] not in mark:\n",
    "                    words.append(wordList[j])\n",
    "                    mark.append(wordList[i])\n",
    "            wordDict[wordList[i]] = words\n",
    "        search_queue = collections.deque(wordDict[beginWord])\n",
    "        print(search_queue)\n",
    "        # fang[-1]\n",
    "        dept = 0\n",
    "        mark = []\n",
    "        print(wordDict)\n",
    "        while search_queue:\n",
    "            print(search_queue)\n",
    "            words = search_queue.popleft()\n",
    "            dept += 1\n",
    "            if words not in mark:\n",
    "                if words == endWord:\n",
    "                    return dept\n",
    "            mark.append(words)\n",
    "            search_queue += wordDict[words]\n",
    "        return 0\n",
    "\n",
    "\n",
    "        "
   ]
  }
 ],
 "metadata": {
  "kernelspec": {
   "display_name": "Python 3",
   "language": "python",
   "name": "python3"
  },
  "language_info": {
   "codemirror_mode": {
    "name": "ipython",
    "version": 3
   },
   "file_extension": ".py",
   "mimetype": "text/x-python",
   "name": "python",
   "nbconvert_exporter": "python",
   "pygments_lexer": "ipython3",
   "version": "3.7.3"
  }
 },
 "nbformat": 4,
 "nbformat_minor": 2
}
