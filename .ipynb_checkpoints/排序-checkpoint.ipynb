{
 "cells": [
  {
   "cell_type": "markdown",
   "metadata": {},
   "source": [
    "## 选择排序\n",
    "工作原理，首先在未排序序列中找到最小（大）元素，存放到排序序列的起始位置，然后，再从剩余未排序元素中继续寻找最小（大）元素，然后放到已排序序列的末尾。以此类推，直到所有元素均排序完毕。\n",
    "\n",
    "稳定性：用数组实现的选择排序是不稳定的，用链表实现的选择排序是稳定的；内排序；\n",
    "![选择排序](https://camo.githubusercontent.com/50534289ed6ebd336887b08850e4835e66c5c69f/68747470733a2f2f7069632e6c656574636f64652d636e2e636f6d2f336235613933383336353062376261303132313138343664656665646138393137643738383237663032313332313133633537666362643039373135626634622d3834393538392d32303137313031353232343731393539302d313433333231393832342e676966)"
   ]
  },
  {
   "cell_type": "code",
   "execution_count": null,
   "metadata": {},
   "outputs": [],
   "source": [
    "def sortArray(self, nums: List[int]) -> List[int]:\n",
    "        #选择排序\n",
    "        for i in range(len(nums)):\n",
    "            min_num = nums[i]\n",
    "            index = i\n",
    "            for j in range(i,len(nums)):\n",
    "                if min_num > nums[j]:\n",
    "                    min_num = nums[j]\n",
    "                    index = j\n",
    "            nums[i], nums[index] = nums[index], nums[i]\n",
    "        return nums"
   ]
  },
  {
   "cell_type": "markdown",
   "metadata": {},
   "source": [
    "## 冒泡排序\n",
    "冒泡排序时针对相邻元素之间的比较，可以将大的数慢慢“沉底”(数组尾部)\n",
    "稳定排序，内排序，时间复杂度：O(n^2)\n",
    "![冒泡排序](https://github.com/Smallflyfly/Leetcode_Solutions/blob/master/%E5%86%92%E6%B3%A1%E6%8E%92%E5%BA%8F.gif?raw=true)"
   ]
  },
  {
   "cell_type": "code",
   "execution_count": null,
   "metadata": {},
   "outputs": [],
   "source": [
    "def sortArray(self, nums:List[int]) -> List[int]:\n",
    "    #冒泡排序\n",
    "    for i in range(len(nums)):\n",
    "        for j in range(1, len(nums)-i):\n",
    "            if nums[j-1] > nums[j]:\n",
    "                nums[j-1], nums[j] = nums[j], nums[j-1]\n",
    "    return nums"
   ]
  },
  {
   "cell_type": "markdown",
   "metadata": {},
   "source": [
    "## 插入排序\n",
    "插入排序是前面已排序数组找到插入的位置\n",
    "算法分析：\n",
    "稳定排序，内排序，时间复杂度：O(n^2)\n",
    "![插入排序](https://github.com/Smallflyfly/Leetcode_Solutions/blob/master/%E6%8F%92%E5%85%A5%E6%8E%92%E5%BA%8F.gif?raw=true)"
   ]
  },
  {
   "cell_type": "code",
   "execution_count": null,
   "metadata": {},
   "outputs": [],
   "source": [
    "def sortArray(self, nums:List[int])-->List[int]:\n",
    "    for i in range(1,len(nums)):\n",
    "        j = i\n",
    "        while j and nums[j-1]>nums[j]:\n",
    "            nums[j-1], nums[j] = nums[j], nums[j-1]\n",
    "            j -= 1\n",
    "    return nums"
   ]
  },
  {
   "cell_type": "markdown",
   "metadata": {},
   "source": [
    "## 希尔排序\n",
    "我们来看下希尔排序的基本步骤，在此我们选择增量gap=length/2，缩小增量继续以gap = gap/2的方式，这种增量选择我们可以用一个序列来表示，{n/2,(n/2)/2…1}，称为增量序列。希尔排序的增量序列的选择与证明是个数学难题，我们选择的这个增量序列是比较常用的，也是希尔建议的增量，称为希尔增量，但其实这个增量序列不是最优的。\n",
    "\n",
    "先将整个待排序的记录序列分割成为若干子序列分别进行直接插入排序，具体算法描述：\n",
    "\n",
    "步骤1：选择一个增量序列t_1，t_2，…，t_kt 其中t_i>t_j，t_k=1；\n",
    "\n",
    "步骤2：按增量序列个数k，对序列进行k 趟排序；\n",
    "\n",
    "步骤3：每趟排序，根据对应的增量ti，将待排序列分割成若干长度为m 的子序列，分别对各子表进行直接插入排序。仅增量因子为1 时，整个序列作为一个表来处理，表长度即为整个序列的长度。\n",
    "![希尔排序1](https://github.com/Smallflyfly/Leetcode_Solutions/blob/master/%E5%B8%8C%E5%B0%94%E6%8E%92%E5%BA%8F.gif?raw=true)\n",
    "![希尔排序2](https://github.com/Smallflyfly/Leetcode_Solutions/blob/master/%E5%B8%8C%E5%B0%94%E6%8E%92%E5%BA%8F2.png?raw=true)\n",
    "非稳定排序，内排序；\n",
    "\n",
    "希尔排序的时间复杂度和增量序列是相关的。\n",
    "\n",
    "{1,2,4,8,...}这种序列并不是很好的增量序列，使用这个增量序列的时间复杂度（最坏情形）是O(n^2)\n",
    "\n",
    "Hibbard提出了另一个增量序列{1,3,7，...,2^k-1}，这种序列的时间复杂度(最坏情形)为O(n^{1.5}\n",
    "\n",
    "Sedgewick提出了几种增量序列，其最坏情形运行时间为O(n^{1.3})其中最好的一个序列是{1,5,19,41,109,...}；\n",
    "\n",
    "对于不同增量的复杂度感兴趣可以参考《数据结构与算法分析》一书或其他相关论文。\n"
   ]
  },
  {
   "cell_type": "code",
   "execution_count": null,
   "metadata": {},
   "outputs": [],
   "source": [
    "def sortArray(self, nums:List[int])-->List[int]:\n",
    "    t = len(nums) // 2\n",
    "    while t:\n",
    "        for i in range(t, len(nums),t):\n",
    "            if nums[i-t] > nums[i]:\n",
    "                nums[i-t], nums[i] = nums[i], nums[i-t]\n",
    "        t //= 2"
   ]
  },
  {
   "cell_type": "code",
   "execution_count": null,
   "metadata": {},
   "outputs": [],
   "source": []
  }
 ],
 "metadata": {
  "kernelspec": {
   "display_name": "Python 3",
   "language": "python",
   "name": "python3"
  },
  "language_info": {
   "codemirror_mode": {
    "name": "ipython",
    "version": 3
   },
   "file_extension": ".py",
   "mimetype": "text/x-python",
   "name": "python",
   "nbconvert_exporter": "python",
   "pygments_lexer": "ipython3",
   "version": "3.7.3"
  }
 },
 "nbformat": 4,
 "nbformat_minor": 2
}
