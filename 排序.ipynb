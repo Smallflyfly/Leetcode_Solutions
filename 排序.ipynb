{
 "cells": [
  {
   "attachments": {},
   "cell_type": "markdown",
   "metadata": {},
   "source": [
    "## 选择排序\n",
    "工作原理，首先在未排序序列中找到最小（大）元素，存放到排序序列的起始位置，然后，再从剩余未排序元素中继续寻找最小（大）元素，然后放到已排序序列的末尾。以此类推，直到所有元素均排序完毕。\n",
    "\n",
    "稳定性：用数组实现的选择排序是不稳定的，用链表实现的选择排序是稳定的；内排序；\n",
    "![选择排序](https://pic.leetcode-cn.com/3b5a9383650b7ba01211846defeda8917d78827f02132113c57fcbd09715bf4b-849589-20171015224719590-1433219824.gif)"
   ]
  },
  {
   "cell_type": "code",
   "execution_count": null,
   "metadata": {},
   "outputs": [],
   "source": [
    "def sortArray(self, nums: List[int]) -> List[int]:\n",
    "        #选择排序\n",
    "        for i in range(len(nums)):\n",
    "            min_num = nums[i]\n",
    "            index = i\n",
    "            for j in range(i,len(nums)):\n",
    "                if min_num > nums[j]:\n",
    "                    min_num = nums[j]\n",
    "                    index = j\n",
    "            nums[i], nums[index] = nums[index], nums[i]\n",
    "        return nums"
   ]
  },
  {
   "cell_type": "markdown",
   "metadata": {},
   "source": [
    "## 冒泡排序\n",
    "冒泡排序时针对相邻元素之间的比较，可以将大的数慢慢“沉底”(数组尾部)\n",
    "稳定排序，内排序，时间复杂度：O(n^2)"
   ]
  },
  {
   "cell_type": "code",
   "execution_count": null,
   "metadata": {},
   "outputs": [],
   "source": [
    "def sortArray(self, nums:List[int]) -> List[int]:\n",
    "    #冒泡排序\n",
    "    for i in range(len(nums)):\n",
    "        for j in range(1, len(nums)-i):\n",
    "            if nums[j-1] > nums[j]:\n",
    "                nums[j-1], nums[j] = nums[j], nums[j-1]\n",
    "    return nums"
   ]
  },
  {
   "cell_type": "markdown",
   "metadata": {},
   "source": [
    "## 插入排序\n",
    "插入排序是前面已排序数组找到插入的位置"
   ]
  }
 ],
 "metadata": {
  "kernelspec": {
   "display_name": "Python 3",
   "language": "python",
   "name": "python3"
  },
  "language_info": {
   "codemirror_mode": {
    "name": "ipython",
    "version": 3
   },
   "file_extension": ".py",
   "mimetype": "text/x-python",
   "name": "python",
   "nbconvert_exporter": "python",
   "pygments_lexer": "ipython3",
   "version": "3.7.3"
  }
 },
 "nbformat": 4,
 "nbformat_minor": 2
}
